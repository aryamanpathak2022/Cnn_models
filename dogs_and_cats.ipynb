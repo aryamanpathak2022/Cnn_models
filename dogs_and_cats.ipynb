{
  "cells": [
    {
      "cell_type": "markdown",
      "metadata": {
        "id": "view-in-github",
        "colab_type": "text"
      },
      "source": [
        "<a href=\"https://colab.research.google.com/github/aryamanpathak2022/Cnn_models/blob/main/dogs_and_cats.ipynb\" target=\"_parent\"><img src=\"https://colab.research.google.com/assets/colab-badge.svg\" alt=\"Open In Colab\"/></a>"
      ]
    },
    {
      "cell_type": "code",
      "execution_count": null,
      "metadata": {
        "colab": {
          "base_uri": "https://localhost:8080/"
        },
        "id": "VpRD5oHTMrYg",
        "outputId": "785dd0f6-7c38-4953-aefb-5e926c7dd111"
      },
      "outputs": [
        {
          "name": "stdout",
          "output_type": "stream",
          "text": [
            "Collecting nngen\n",
            "  Downloading nngen-1.3.4.tar.gz (1.1 MB)\n",
            "\u001b[2K     \u001b[90m━━━━━━━━━━━━━━━━━━━━━━━━━━━━━━━━━━━━━━━━\u001b[0m \u001b[32m1.1/1.1 MB\u001b[0m \u001b[31m12.5 MB/s\u001b[0m eta \u001b[36m0:00:00\u001b[0m\n",
            "\u001b[?25h  Preparing metadata (setup.py) ... \u001b[?25l\u001b[?25hdone\n",
            "Collecting veriloggen>=2.3.0 (from nngen)\n",
            "  Downloading veriloggen-2.3.0.tar.gz (2.5 MB)\n",
            "\u001b[2K     \u001b[90m━━━━━━━━━━━━━━━━━━━━━━━━━━━━━━━━━━━━━━━━\u001b[0m \u001b[32m2.5/2.5 MB\u001b[0m \u001b[31m23.6 MB/s\u001b[0m eta \u001b[36m0:00:00\u001b[0m\n",
            "\u001b[?25h  Preparing metadata (setup.py) ... \u001b[?25l\u001b[?25hdone\n",
            "Requirement already satisfied: numpy>=1.17 in /usr/local/lib/python3.10/dist-packages (from nngen) (1.25.2)\n",
            "Collecting onnx>=1.9.0 (from nngen)\n",
            "  Downloading onnx-1.16.1-cp310-cp310-manylinux_2_17_x86_64.manylinux2014_x86_64.whl (15.9 MB)\n",
            "\u001b[2K     \u001b[90m━━━━━━━━━━━━━━━━━━━━━━━━━━━━━━━━━━━━━━━━\u001b[0m \u001b[32m15.9/15.9 MB\u001b[0m \u001b[31m23.5 MB/s\u001b[0m eta \u001b[36m0:00:00\u001b[0m\n",
            "\u001b[?25hRequirement already satisfied: protobuf>=3.20.2 in /usr/local/lib/python3.10/dist-packages (from onnx>=1.9.0->nngen) (3.20.3)\n",
            "Collecting pyverilog>=1.3.0 (from veriloggen>=2.3.0->nngen)\n",
            "  Downloading pyverilog-1.3.0.tar.gz (136 kB)\n",
            "\u001b[2K     \u001b[90m━━━━━━━━━━━━━━━━━━━━━━━━━━━━━━━━━━━━━━━━\u001b[0m \u001b[32m136.4/136.4 kB\u001b[0m \u001b[31m12.0 MB/s\u001b[0m eta \u001b[36m0:00:00\u001b[0m\n",
            "\u001b[?25h  Preparing metadata (setup.py) ... \u001b[?25l\u001b[?25hdone\n",
            "Requirement already satisfied: Jinja2>=2.10 in /usr/local/lib/python3.10/dist-packages (from pyverilog>=1.3.0->veriloggen>=2.3.0->nngen) (3.1.4)\n",
            "Collecting ply>=3.4 (from pyverilog>=1.3.0->veriloggen>=2.3.0->nngen)\n",
            "  Downloading ply-3.11-py2.py3-none-any.whl (49 kB)\n",
            "\u001b[2K     \u001b[90m━━━━━━━━━━━━━━━━━━━━━━━━━━━━━━━━━━━━━━━━\u001b[0m \u001b[32m49.6/49.6 kB\u001b[0m \u001b[31m5.1 MB/s\u001b[0m eta \u001b[36m0:00:00\u001b[0m\n",
            "\u001b[?25hRequirement already satisfied: MarkupSafe>=2.0 in /usr/local/lib/python3.10/dist-packages (from Jinja2>=2.10->pyverilog>=1.3.0->veriloggen>=2.3.0->nngen) (2.1.5)\n",
            "Building wheels for collected packages: nngen, veriloggen, pyverilog\n",
            "  Building wheel for nngen (setup.py) ... \u001b[?25l\u001b[?25hdone\n",
            "  Created wheel for nngen: filename=nngen-1.3.4-py3-none-any.whl size=161244 sha256=1a6be3982f2990c9ee203cd140b10b4629bce41f72bff9c51ce33c15c16e0825\n",
            "  Stored in directory: /root/.cache/pip/wheels/0e/d8/4e/467100ae7a360fca7893d9007326f763acd15a42bef445ff80\n",
            "  Building wheel for veriloggen (setup.py) ... \u001b[?25l\u001b[?25hdone\n",
            "  Created wheel for veriloggen: filename=veriloggen-2.3.0-py3-none-any.whl size=226044 sha256=76dc6c7d9398185583ff3e39899aedaab9ed8961dd0d671b9a8cd7986262b1fe\n",
            "  Stored in directory: /root/.cache/pip/wheels/3f/e5/a8/416c581f5ff8c8efe95d1784d796f1e5aa5b88fdfd61d7d007\n",
            "  Building wheel for pyverilog (setup.py) ... \u001b[?25l\u001b[?25hdone\n",
            "  Created wheel for pyverilog: filename=pyverilog-1.3.0-py3-none-any.whl size=118929 sha256=a633d01bda391e67d92d7155c291bb862380a33f742e2f212a16395b6f5e3d56\n",
            "  Stored in directory: /root/.cache/pip/wheels/cf/6e/86/42cdc93d68295ef50b38b8ad1fba394ac319f2b39c896b1975\n",
            "Successfully built nngen veriloggen pyverilog\n",
            "Installing collected packages: ply, onnx, pyverilog, veriloggen, nngen\n",
            "Successfully installed nngen-1.3.4 onnx-1.16.1 ply-3.11 pyverilog-1.3.0 veriloggen-2.3.0\n"
          ]
        }
      ],
      "source": [
        "pip install nngen\n"
      ]
    },
    {
      "cell_type": "code",
      "execution_count": null,
      "metadata": {
        "id": "Uf_fYIKUV6ui"
      },
      "outputs": [],
      "source": [
        "import nngen as ng\n",
        "import torch\n",
        "import torch.nn as nn\n",
        "import torch.optim as optim\n",
        "import torchvision\n",
        "from torchvision import datasets, transforms\n",
        "from torch.utils.data import DataLoader"
      ]
    },
    {
      "cell_type": "code",
      "execution_count": null,
      "metadata": {
        "colab": {
          "base_uri": "https://localhost:8080/"
        },
        "id": "dgqkfgNjZfwE",
        "outputId": "23f7a3a7-a8aa-45cc-b266-084615e66084"
      },
      "outputs": [
        {
          "name": "stdout",
          "output_type": "stream",
          "text": [
            "Fri Jun 21 17:41:30 2024       \n",
            "+---------------------------------------------------------------------------------------+\n",
            "| NVIDIA-SMI 535.104.05             Driver Version: 535.104.05   CUDA Version: 12.2     |\n",
            "|-----------------------------------------+----------------------+----------------------+\n",
            "| GPU  Name                 Persistence-M | Bus-Id        Disp.A | Volatile Uncorr. ECC |\n",
            "| Fan  Temp   Perf          Pwr:Usage/Cap |         Memory-Usage | GPU-Util  Compute M. |\n",
            "|                                         |                      |               MIG M. |\n",
            "|=========================================+======================+======================|\n",
            "|   0  Tesla T4                       Off | 00000000:00:04.0 Off |                    0 |\n",
            "| N/A   48C    P8               9W /  70W |      0MiB / 15360MiB |      0%      Default |\n",
            "|                                         |                      |                  N/A |\n",
            "+-----------------------------------------+----------------------+----------------------+\n",
            "                                                                                         \n",
            "+---------------------------------------------------------------------------------------+\n",
            "| Processes:                                                                            |\n",
            "|  GPU   GI   CI        PID   Type   Process name                            GPU Memory |\n",
            "|        ID   ID                                                             Usage      |\n",
            "|=======================================================================================|\n",
            "|  No running processes found                                                           |\n",
            "+---------------------------------------------------------------------------------------+\n"
          ]
        }
      ],
      "source": [
        "!nvidia-smi"
      ]
    },
    {
      "cell_type": "code",
      "execution_count": null,
      "metadata": {
        "id": "I-mgyeYEPJxB"
      },
      "outputs": [],
      "source": [
        "def filter_d_c(dataset):\n",
        "  index=[i for i,target in enumerate(dataset.targets) if target in [3,5]]\n",
        "  data=[dataset.data[i] for i in index]\n",
        "  target=[0 if dataset.targets[i] ==3 else 1 for i in index  ]\n",
        "  return data,target"
      ]
    },
    {
      "cell_type": "code",
      "execution_count": null,
      "metadata": {
        "colab": {
          "base_uri": "https://localhost:8080/"
        },
        "id": "Gy0bm-ZPpCb1",
        "outputId": "6c76b770-68ea-45df-d6a6-d023f556a8e5"
      },
      "outputs": [
        {
          "name": "stdout",
          "output_type": "stream",
          "text": [
            "Downloading https://www.cs.toronto.edu/~kriz/cifar-10-python.tar.gz to ./data/cifar-10-python.tar.gz\n"
          ]
        },
        {
          "name": "stderr",
          "output_type": "stream",
          "text": [
            "100%|██████████| 170498071/170498071 [00:03<00:00, 53892490.29it/s]\n"
          ]
        },
        {
          "name": "stdout",
          "output_type": "stream",
          "text": [
            "Extracting ./data/cifar-10-python.tar.gz to ./data\n",
            "Files already downloaded and verified\n",
            "10000\n",
            "2000\n"
          ]
        }
      ],
      "source": [
        "\n",
        "\n",
        "transform = transforms.Compose([\n",
        "    transforms.Resize((32, 32)),  # Resize images\n",
        "    transforms.ToTensor(),         # PyTorch tensors\n",
        "    transforms.Normalize((0.5, 0.5, 0.5), (0.5, 0.5, 0.5))  # Normalize pixel values  and what\n",
        "])\n",
        "\n",
        "train_dataset = datasets.CIFAR10(root='./data', train=True, download=True, transform=transform)\n",
        "test_dataset = datasets.CIFAR10(root='./data', train=False, download=True, transform=transform)\n",
        "\n",
        "avg= train_dataset.data\n",
        "\n",
        "train_dataset.data,train_dataset.targets = filter_d_c(train_dataset)\n",
        "test_dataset.data,test_dataset.targets = filter_d_c(test_dataset)\n",
        "\n",
        "print(len(train_dataset.data))\n",
        "print(len(test_dataset.data))\n",
        "\n",
        "\n",
        "\n"
      ]
    },
    {
      "cell_type": "code",
      "execution_count": null,
      "metadata": {
        "id": "g2dV1NSN4XaV"
      },
      "outputs": [],
      "source": []
    },
    {
      "cell_type": "code",
      "execution_count": null,
      "metadata": {
        "id": "_ffXHJbVNKsy"
      },
      "outputs": [],
      "source": [
        "train_loader = DataLoader(train_dataset, batch_size=64, shuffle=True)\n",
        "test_loader = DataLoader(test_dataset, batch_size=64, shuffle=False)\n",
        "\n",
        "\n"
      ]
    },
    {
      "cell_type": "code",
      "execution_count": null,
      "metadata": {
        "id": "nWyXxbfFY5p9"
      },
      "outputs": [],
      "source": [
        "it=iter(train_loader)"
      ]
    },
    {
      "cell_type": "code",
      "execution_count": null,
      "metadata": {
        "id": "D8ICfgO0NNCw"
      },
      "outputs": [],
      "source": []
    },
    {
      "cell_type": "code",
      "execution_count": null,
      "metadata": {
        "colab": {
          "base_uri": "https://localhost:8080/"
        },
        "id": "41U3EUedNPuh",
        "outputId": "657a7022-d09b-49ac-c0ec-09e1b21a6150"
      },
      "outputs": [
        {
          "name": "stdout",
          "output_type": "stream",
          "text": [
            "tensor([[-0.5059, -0.5059, -0.5294,  ..., -0.5137, -0.4667, -0.4667],\n",
            "        [-0.4824, -0.4745, -0.4353,  ..., -0.5216, -0.4980, -0.5059],\n",
            "        [-0.4510, -0.4745, -0.2627,  ..., -0.4588, -0.5216, -0.5059],\n",
            "        ...,\n",
            "        [-0.5451, -0.6000, -0.6314,  ..., -0.6157, -0.5922, -0.5608],\n",
            "        [-0.5529, -0.5686, -0.5922,  ..., -0.6157, -0.6157, -0.5373],\n",
            "        [-0.5843, -0.5216, -0.5373,  ..., -0.4980, -0.5294, -0.4196]]) torch.Size([32, 32])\n",
            "tensor(-0.0324)\n"
          ]
        },
        {
          "data": {
            "text/plain": [
              "torch.Size([64, 3, 32, 32])"
            ]
          },
          "execution_count": 8,
          "metadata": {},
          "output_type": "execute_result"
        }
      ],
      "source": [
        "data = next(it)\n",
        "img , label = data\n",
        "# print(img.shape, label.shape)\n",
        "# print(label[0:5])\n",
        "print(img[0,0],img[0,0].shape)\n",
        "print(torch.mean(img[:,0,:,:]))\n",
        "data[0].shape\n",
        "\n"
      ]
    },
    {
      "cell_type": "code",
      "execution_count": null,
      "metadata": {
        "colab": {
          "base_uri": "https://localhost:8080/"
        },
        "id": "kvOvaAFpedIJ",
        "outputId": "e2d5f45f-40bb-48b6-d7fe-15e52f955e05"
      },
      "outputs": [
        {
          "data": {
            "text/plain": [
              "torch.Size([64, 3, 32, 32])"
            ]
          },
          "execution_count": 9,
          "metadata": {},
          "output_type": "execute_result"
        }
      ],
      "source": [
        "data[0].shape\n"
      ]
    },
    {
      "cell_type": "code",
      "execution_count": null,
      "metadata": {
        "id": "2wII_rpSgHak"
      },
      "outputs": [],
      "source": []
    },
    {
      "cell_type": "code",
      "execution_count": null,
      "metadata": {
        "colab": {
          "base_uri": "https://localhost:8080/"
        },
        "id": "VFKObzLIaeQu",
        "outputId": "15e9f8fe-94ab-40c7-b291-617add22a7e9"
      },
      "outputs": [
        {
          "data": {
            "text/plain": [
              "(torch.Size([32]),\n",
              " tensor([-0.0863, -0.1061, -0.1103, -0.1118, -0.1220, -0.1266, -0.1162, -0.1110,\n",
              "         -0.1008, -0.0843, -0.0892, -0.0933, -0.0737, -0.0468, -0.0314, -0.0272,\n",
              "         -0.0131, -0.0028,  0.0059,  0.0027, -0.0157, -0.0373, -0.0482, -0.0459,\n",
              "         -0.0444, -0.0450, -0.0446, -0.0460, -0.0440, -0.0529, -0.0625, -0.0664]),\n",
              " torch.Size([3, 32, 32]),\n",
              " tensor([-0.0324, -0.0624, -0.1604]))"
            ]
          },
          "execution_count": 10,
          "metadata": {},
          "output_type": "execute_result"
        }
      ],
      "source": [
        "data[0][:,1].mean([0,1]).shape,data[0][:,1].mean([0,1]),data[0][1].shape,data[0].mean([0,2,3])"
      ]
    },
    {
      "cell_type": "code",
      "execution_count": null,
      "metadata": {
        "id": "br0cA6PzfB9g"
      },
      "outputs": [],
      "source": []
    },
    {
      "cell_type": "code",
      "execution_count": null,
      "metadata": {
        "colab": {
          "base_uri": "https://localhost:8080/"
        },
        "id": "SVOu1KRibvvi",
        "outputId": "3d95160b-26ac-4010-d439-7728014b6dd4"
      },
      "outputs": [
        {
          "data": {
            "text/plain": [
              "tensor([-0.0324, -0.0624, -0.1604])"
            ]
          },
          "execution_count": 11,
          "metadata": {},
          "output_type": "execute_result"
        }
      ],
      "source": [
        "data[0].mean([0,2,3])"
      ]
    },
    {
      "cell_type": "code",
      "execution_count": null,
      "metadata": {
        "id": "_c4VZTWeVxQA"
      },
      "outputs": [],
      "source": [
        "class cnn_network(nn.Module):\n",
        "  def __init__(self):\n",
        "        super(cnn_network, self).__init__()\n",
        "        self.conv1 = nn.Conv2d(3, 16, 3, padding=1)\n",
        "        self.conv2 = nn.Conv2d(16, 32, 3, padding=1)\n",
        "        self.conv3 = nn.Conv2d(32, 64, 3, padding=1)\n",
        "        self.pool = nn.MaxPool2d(2, 2)\n",
        "        self.fc1 = nn.Linear(64*4*4, 512)\n",
        "        self.fc2 = nn.Linear(512, 2)\n",
        "#\n",
        "  def forward(self, x):\n",
        "    x = self.pool(torch.relu(self.conv1(x))) #out = 64*16*16*16\n",
        "    #print(x.shape)\n",
        "    x = self.pool(torch.relu(self.conv2(x))) #out = 64*32*8*8\n",
        "    #print(x.shape)\n",
        "    x = self.pool(torch.relu(self.conv3(x))) #out = 64*64*4*4\n",
        "    #print(x.shape)\n",
        "    x = x.view(-1,64*4*4) #what\n",
        "    #print(x.shape)\n",
        "    x = torch.relu(self.fc1(x))\n",
        "\n",
        "    #print(x.shape)\n",
        "    x = self.fc2(x)\n",
        "    #print(x.shape)\n",
        "    return x\n"
      ]
    },
    {
      "cell_type": "code",
      "execution_count": null,
      "metadata": {
        "colab": {
          "base_uri": "https://localhost:8080/"
        },
        "id": "sxTJGitdVz1w",
        "outputId": "9677cabc-9b88-4b0a-9b70-c9278d831dd6"
      },
      "outputs": [
        {
          "data": {
            "text/plain": [
              "torch.Size([64, 3, 32, 32])"
            ]
          },
          "execution_count": 13,
          "metadata": {},
          "output_type": "execute_result"
        }
      ],
      "source": [
        "model=cnn_network()\n",
        "data[0].shape"
      ]
    },
    {
      "cell_type": "code",
      "execution_count": null,
      "metadata": {
        "colab": {
          "background_save": true
        },
        "id": "jMz_BOdCHZz4",
        "outputId": "236f6030-3205-491f-cfb1-24df2ad21fc6"
      },
      "outputs": [
        {
          "name": "stdout",
          "output_type": "stream",
          "text": [
            "completed training\n"
          ]
        }
      ],
      "source": [
        "\n",
        "\n",
        "\n",
        "\n",
        "\n",
        "#loss function and optimizer\n",
        "criterion = nn.CrossEntropyLoss() #what\n",
        "optimizer = optim.SGD(model.parameters(), lr=0.1, momentum=0.9)\n",
        "\n",
        "for i in range(5):\n",
        "  total_loss=0.00\n",
        "  for j, data in enumerate(train_loader): #what\n",
        "    inputs, labels = data\n",
        "    optimizer.zero_grad()\n",
        "    outputs = model(inputs)\n",
        "    #print(outputs.shape,inputs.shape)\n",
        "    loss = criterion(outputs, labels)\n",
        "    loss.backward()\n",
        "    optimizer.step()\n",
        "    # total_loss += loss.item()\n",
        "\n",
        "print(\"completed training\")\n",
        "\n",
        "#training completed\n",
        "\n",
        "\n",
        "\n"
      ]
    },
    {
      "cell_type": "code",
      "execution_count": null,
      "metadata": {
        "colab": {
          "background_save": true
        },
        "id": "bbQ-UcQ6RTId",
        "outputId": "5d93ff29-7a44-4173-80f5-315c772b20c2"
      },
      "outputs": [
        {
          "name": "stdout",
          "output_type": "stream",
          "text": [
            "Accuracy : 71.5%\n"
          ]
        }
      ],
      "source": [
        "correct = 0\n",
        "total = 0\n",
        "\n",
        "with torch.no_grad():\n",
        "    for data in test_loader:\n",
        "        images, labels = data\n",
        "        outputs = model(images)\n",
        "        _, predicted = torch.max(outputs.data, 1) #what\n",
        "\n",
        "        total += labels.size(0)\n",
        "        correct += (predicted == labels).sum().item()\n",
        "\n",
        "\n",
        "print(f\"Accuracy : {100 * correct / total}%\")"
      ]
    },
    {
      "cell_type": "code",
      "execution_count": null,
      "metadata": {
        "colab": {
          "background_save": true
        },
        "id": "ctUlr0YEhLw9",
        "outputId": "8118dbf4-09df-480e-c8da-1a5346ad167a"
      },
      "outputs": [
        {
          "data": {
            "text/plain": [
              "torch.Size([16, 3, 32, 32])"
            ]
          },
          "execution_count": 16,
          "metadata": {},
          "output_type": "execute_result"
        }
      ],
      "source": [
        "predicted.shape\n",
        "data[0].shape"
      ]
    },
    {
      "cell_type": "code",
      "execution_count": null,
      "metadata": {
        "colab": {
          "background_save": true
        },
        "id": "OaVCWveuGP0D",
        "outputId": "af358a0c-8e95-4942-a9e8-d39d1b1a3fea"
      },
      "outputs": [
        {
          "name": "stdout",
          "output_type": "stream",
          "text": [
            "torch.Size([16, 2]) torch.Size([16])\n"
          ]
        }
      ],
      "source": [
        "print(outputs.shape,labels.shape)"
      ]
    }
  ],
  "metadata": {
    "accelerator": "GPU",
    "colab": {
      "gpuType": "T4",
      "provenance": [],
      "include_colab_link": true
    },
    "kernelspec": {
      "display_name": "Python 3",
      "name": "python3"
    },
    "language_info": {
      "name": "python"
    }
  },
  "nbformat": 4,
  "nbformat_minor": 0
}